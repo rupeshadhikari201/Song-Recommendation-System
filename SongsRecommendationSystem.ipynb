{
 "cells": [
  {
   "cell_type": "markdown",
   "id": "9d612b41",
   "metadata": {},
   "source": [
    "# Load the dataset"
   ]
  },
  {
   "cell_type": "code",
   "execution_count": 5,
   "id": "77541c03",
   "metadata": {},
   "outputs": [
    {
     "data": {
      "text/html": [
       "<div>\n",
       "<style scoped>\n",
       "    .dataframe tbody tr th:only-of-type {\n",
       "        vertical-align: middle;\n",
       "    }\n",
       "\n",
       "    .dataframe tbody tr th {\n",
       "        vertical-align: top;\n",
       "    }\n",
       "\n",
       "    .dataframe thead th {\n",
       "        text-align: right;\n",
       "    }\n",
       "</style>\n",
       "<table border=\"1\" class=\"dataframe\">\n",
       "  <thead>\n",
       "    <tr style=\"text-align: right;\">\n",
       "      <th></th>\n",
       "      <th>artist</th>\n",
       "      <th>song</th>\n",
       "      <th>link</th>\n",
       "      <th>text</th>\n",
       "    </tr>\n",
       "  </thead>\n",
       "  <tbody>\n",
       "    <tr>\n",
       "      <th>0</th>\n",
       "      <td>ABBA</td>\n",
       "      <td>Ahe's My Kind Of Girl</td>\n",
       "      <td>/a/abba/ahes+my+kind+of+girl_20598417.html</td>\n",
       "      <td>Look at her face, it's a wonderful face  \\nAnd...</td>\n",
       "    </tr>\n",
       "    <tr>\n",
       "      <th>1</th>\n",
       "      <td>ABBA</td>\n",
       "      <td>Andante, Andante</td>\n",
       "      <td>/a/abba/andante+andante_20002708.html</td>\n",
       "      <td>Take it easy with me, please  \\nTouch me gentl...</td>\n",
       "    </tr>\n",
       "    <tr>\n",
       "      <th>2</th>\n",
       "      <td>ABBA</td>\n",
       "      <td>As Good As New</td>\n",
       "      <td>/a/abba/as+good+as+new_20003033.html</td>\n",
       "      <td>I'll never know why I had to go  \\nWhy I had t...</td>\n",
       "    </tr>\n",
       "    <tr>\n",
       "      <th>3</th>\n",
       "      <td>ABBA</td>\n",
       "      <td>Bang</td>\n",
       "      <td>/a/abba/bang_20598415.html</td>\n",
       "      <td>Making somebody happy is a question of give an...</td>\n",
       "    </tr>\n",
       "    <tr>\n",
       "      <th>4</th>\n",
       "      <td>ABBA</td>\n",
       "      <td>Bang-A-Boomerang</td>\n",
       "      <td>/a/abba/bang+a+boomerang_20002668.html</td>\n",
       "      <td>Making somebody happy is a question of give an...</td>\n",
       "    </tr>\n",
       "    <tr>\n",
       "      <th>...</th>\n",
       "      <td>...</td>\n",
       "      <td>...</td>\n",
       "      <td>...</td>\n",
       "      <td>...</td>\n",
       "    </tr>\n",
       "    <tr>\n",
       "      <th>57645</th>\n",
       "      <td>Ziggy Marley</td>\n",
       "      <td>Good Old Days</td>\n",
       "      <td>/z/ziggy+marley/good+old+days_10198588.html</td>\n",
       "      <td>Irie days come on play  \\nLet the angels fly l...</td>\n",
       "    </tr>\n",
       "    <tr>\n",
       "      <th>57646</th>\n",
       "      <td>Ziggy Marley</td>\n",
       "      <td>Hand To Mouth</td>\n",
       "      <td>/z/ziggy+marley/hand+to+mouth_20531167.html</td>\n",
       "      <td>Power to the workers  \\nMore power  \\nPower to...</td>\n",
       "    </tr>\n",
       "    <tr>\n",
       "      <th>57647</th>\n",
       "      <td>Zwan</td>\n",
       "      <td>Come With Me</td>\n",
       "      <td>/z/zwan/come+with+me_20148981.html</td>\n",
       "      <td>all you need  \\nis something i'll believe  \\nf...</td>\n",
       "    </tr>\n",
       "    <tr>\n",
       "      <th>57648</th>\n",
       "      <td>Zwan</td>\n",
       "      <td>Desire</td>\n",
       "      <td>/z/zwan/desire_20148986.html</td>\n",
       "      <td>northern star  \\nam i frightened  \\nwhere can ...</td>\n",
       "    </tr>\n",
       "    <tr>\n",
       "      <th>57649</th>\n",
       "      <td>Zwan</td>\n",
       "      <td>Heartsong</td>\n",
       "      <td>/z/zwan/heartsong_20148991.html</td>\n",
       "      <td>come in  \\nmake yourself at home  \\ni'm a bit ...</td>\n",
       "    </tr>\n",
       "  </tbody>\n",
       "</table>\n",
       "<p>57650 rows × 4 columns</p>\n",
       "</div>"
      ],
      "text/plain": [
       "             artist                   song  \\\n",
       "0              ABBA  Ahe's My Kind Of Girl   \n",
       "1              ABBA       Andante, Andante   \n",
       "2              ABBA         As Good As New   \n",
       "3              ABBA                   Bang   \n",
       "4              ABBA       Bang-A-Boomerang   \n",
       "...             ...                    ...   \n",
       "57645  Ziggy Marley          Good Old Days   \n",
       "57646  Ziggy Marley          Hand To Mouth   \n",
       "57647          Zwan           Come With Me   \n",
       "57648          Zwan                 Desire   \n",
       "57649          Zwan              Heartsong   \n",
       "\n",
       "                                              link  \\\n",
       "0       /a/abba/ahes+my+kind+of+girl_20598417.html   \n",
       "1            /a/abba/andante+andante_20002708.html   \n",
       "2             /a/abba/as+good+as+new_20003033.html   \n",
       "3                       /a/abba/bang_20598415.html   \n",
       "4           /a/abba/bang+a+boomerang_20002668.html   \n",
       "...                                            ...   \n",
       "57645  /z/ziggy+marley/good+old+days_10198588.html   \n",
       "57646  /z/ziggy+marley/hand+to+mouth_20531167.html   \n",
       "57647           /z/zwan/come+with+me_20148981.html   \n",
       "57648                 /z/zwan/desire_20148986.html   \n",
       "57649              /z/zwan/heartsong_20148991.html   \n",
       "\n",
       "                                                    text  \n",
       "0      Look at her face, it's a wonderful face  \\nAnd...  \n",
       "1      Take it easy with me, please  \\nTouch me gentl...  \n",
       "2      I'll never know why I had to go  \\nWhy I had t...  \n",
       "3      Making somebody happy is a question of give an...  \n",
       "4      Making somebody happy is a question of give an...  \n",
       "...                                                  ...  \n",
       "57645  Irie days come on play  \\nLet the angels fly l...  \n",
       "57646  Power to the workers  \\nMore power  \\nPower to...  \n",
       "57647  all you need  \\nis something i'll believe  \\nf...  \n",
       "57648  northern star  \\nam i frightened  \\nwhere can ...  \n",
       "57649  come in  \\nmake yourself at home  \\ni'm a bit ...  \n",
       "\n",
       "[57650 rows x 4 columns]"
      ]
     },
     "execution_count": 5,
     "metadata": {},
     "output_type": "execute_result"
    }
   ],
   "source": [
    "import pandas as pd\n",
    "\n",
    "dataset = pd.read_csv('songdata.csv')\n",
    "dataset"
   ]
  },
  {
   "cell_type": "code",
   "execution_count": 34,
   "id": "3e55f45f",
   "metadata": {},
   "outputs": [
    {
     "data": {
      "text/html": [
       "<div>\n",
       "<style scoped>\n",
       "    .dataframe tbody tr th:only-of-type {\n",
       "        vertical-align: middle;\n",
       "    }\n",
       "\n",
       "    .dataframe tbody tr th {\n",
       "        vertical-align: top;\n",
       "    }\n",
       "\n",
       "    .dataframe thead th {\n",
       "        text-align: right;\n",
       "    }\n",
       "</style>\n",
       "<table border=\"1\" class=\"dataframe\">\n",
       "  <thead>\n",
       "    <tr style=\"text-align: right;\">\n",
       "      <th></th>\n",
       "      <th>artist</th>\n",
       "      <th>song</th>\n",
       "      <th>text</th>\n",
       "    </tr>\n",
       "  </thead>\n",
       "  <tbody>\n",
       "    <tr>\n",
       "      <th>0</th>\n",
       "      <td>Hillsong United</td>\n",
       "      <td>Kingdom Come</td>\n",
       "      <td>Your love reaches out to me  \\nYour grace has ...</td>\n",
       "    </tr>\n",
       "    <tr>\n",
       "      <th>1</th>\n",
       "      <td>Will Smith</td>\n",
       "      <td>Jaden's Interlude</td>\n",
       "      <td>Jada: What are you doing?  \\nJaden: I'm just l...</td>\n",
       "    </tr>\n",
       "    <tr>\n",
       "      <th>2</th>\n",
       "      <td>Gary Numan</td>\n",
       "      <td>Me! I Disconnect From You</td>\n",
       "      <td>The alarm rang for days  \\nYou could tell from...</td>\n",
       "    </tr>\n",
       "    <tr>\n",
       "      <th>3</th>\n",
       "      <td>Leo Sayer</td>\n",
       "      <td>Something Fine</td>\n",
       "      <td>Papers lie there helplessly  \\nIn a pile outsi...</td>\n",
       "    </tr>\n",
       "    <tr>\n",
       "      <th>4</th>\n",
       "      <td>Grateful Dead</td>\n",
       "      <td>Big Boss Man</td>\n",
       "      <td>Big boss man, can't you hear me when I call?  ...</td>\n",
       "    </tr>\n",
       "    <tr>\n",
       "      <th>...</th>\n",
       "      <td>...</td>\n",
       "      <td>...</td>\n",
       "      <td>...</td>\n",
       "    </tr>\n",
       "    <tr>\n",
       "      <th>4995</th>\n",
       "      <td>Rick Astley</td>\n",
       "      <td>Move Right Out</td>\n",
       "      <td>She comes home in the morning light  \\nTries t...</td>\n",
       "    </tr>\n",
       "    <tr>\n",
       "      <th>4996</th>\n",
       "      <td>HIM</td>\n",
       "      <td>Too Long To Love</td>\n",
       "      <td>In fear of somthing so unheard of  \\nShe tries...</td>\n",
       "    </tr>\n",
       "    <tr>\n",
       "      <th>4997</th>\n",
       "      <td>Queen</td>\n",
       "      <td>Patience</td>\n",
       "      <td>Shed a tear 'cause I'm missing you  \\nI'm stil...</td>\n",
       "    </tr>\n",
       "    <tr>\n",
       "      <th>4998</th>\n",
       "      <td>Beautiful South</td>\n",
       "      <td>Love Adjourned</td>\n",
       "      <td>Your wife's got beautiful skin  \\nShame it's n...</td>\n",
       "    </tr>\n",
       "    <tr>\n",
       "      <th>4999</th>\n",
       "      <td>Meat Loaf</td>\n",
       "      <td>The Monster Is Loose</td>\n",
       "      <td>I've been living my life in a cage  \\nFreedom ...</td>\n",
       "    </tr>\n",
       "  </tbody>\n",
       "</table>\n",
       "<p>5000 rows × 3 columns</p>\n",
       "</div>"
      ],
      "text/plain": [
       "               artist                       song  \\\n",
       "0     Hillsong United               Kingdom Come   \n",
       "1          Will Smith          Jaden's Interlude   \n",
       "2          Gary Numan  Me! I Disconnect From You   \n",
       "3           Leo Sayer             Something Fine   \n",
       "4       Grateful Dead               Big Boss Man   \n",
       "...               ...                        ...   \n",
       "4995      Rick Astley             Move Right Out   \n",
       "4996              HIM           Too Long To Love   \n",
       "4997            Queen                   Patience   \n",
       "4998  Beautiful South             Love Adjourned   \n",
       "4999        Meat Loaf       The Monster Is Loose   \n",
       "\n",
       "                                                   text  \n",
       "0     Your love reaches out to me  \\nYour grace has ...  \n",
       "1     Jada: What are you doing?  \\nJaden: I'm just l...  \n",
       "2     The alarm rang for days  \\nYou could tell from...  \n",
       "3     Papers lie there helplessly  \\nIn a pile outsi...  \n",
       "4     Big boss man, can't you hear me when I call?  ...  \n",
       "...                                                 ...  \n",
       "4995  She comes home in the morning light  \\nTries t...  \n",
       "4996  In fear of somthing so unheard of  \\nShe tries...  \n",
       "4997  Shed a tear 'cause I'm missing you  \\nI'm stil...  \n",
       "4998  Your wife's got beautiful skin  \\nShame it's n...  \n",
       "4999  I've been living my life in a cage  \\nFreedom ...  \n",
       "\n",
       "[5000 rows x 3 columns]"
      ]
     },
     "execution_count": 34,
     "metadata": {},
     "output_type": "execute_result"
    }
   ],
   "source": [
    "# Select a random sample of 5000 rows from the dataset\n",
    "df = dataset.sample(n=5000)\n",
    "# Drop the \"link\" column permanently from the dataframe\n",
    "df.drop(\"link\", axis=1, inplace=True)\n",
    "# Reset the index of the dataframe, dropping the old index\n",
    "df.reset_index(drop=True)\n"
   ]
  },
  {
   "cell_type": "markdown",
   "id": "2df676d7",
   "metadata": {},
   "source": [
    "# Data Cleaning"
   ]
  },
  {
   "cell_type": "code",
   "execution_count": 35,
   "id": "cb5c9680",
   "metadata": {},
   "outputs": [],
   "source": [
    "# Convert the 'text' column to lowercase and remove leading non-alphanumeric characters\n",
    "df['text'] = df['text'].str.lower().replace('^[a-zA-Z0-9]','')"
   ]
  },
  {
   "cell_type": "code",
   "execution_count": 36,
   "id": "36a250c8",
   "metadata": {},
   "outputs": [],
   "source": [
    "# Remove any word characters followed by whitespace characters\n",
    "df['text'] = df['text'].replace('\\w\\s','')"
   ]
  },
  {
   "cell_type": "code",
   "execution_count": 37,
   "id": "89240e81",
   "metadata": {},
   "outputs": [],
   "source": [
    "# Remove newline characters\n",
    "df['text'] = df['text'].replace(r'\\n','', regex=True)"
   ]
  },
  {
   "cell_type": "code",
   "execution_count": 38,
   "id": "7c4ddaf8",
   "metadata": {},
   "outputs": [],
   "source": [
    "df['text'].reset_index(drop=True, inplace=True)"
   ]
  },
  {
   "cell_type": "code",
   "execution_count": 39,
   "id": "f8c0b879",
   "metadata": {},
   "outputs": [
    {
     "data": {
      "text/plain": [
       "0       your love reaches out to me  your grace has ma...\n",
       "1       jada: what are you doing?  jaden: i'm just loo...\n",
       "2       the alarm rang for days  you could tell from c...\n",
       "3       papers lie there helplessly  in a pile outside...\n",
       "4       big boss man, can't you hear me when i call?  ...\n",
       "                              ...                        \n",
       "4995    she comes home in the morning light  tries to ...\n",
       "4996    in fear of somthing so unheard of  she tries t...\n",
       "4997    shed a tear 'cause i'm missing you  i'm still ...\n",
       "4998    your wife's got beautiful skin  shame it's not...\n",
       "4999    i've been living my life in a cage  freedom sp...\n",
       "Name: text, Length: 5000, dtype: object"
      ]
     },
     "execution_count": 39,
     "metadata": {},
     "output_type": "execute_result"
    }
   ],
   "source": [
    "df['text']"
   ]
  },
  {
   "cell_type": "code",
   "execution_count": 40,
   "id": "b2341088",
   "metadata": {},
   "outputs": [
    {
     "data": {
      "text/plain": [
       "'your love reaches out to me  your grace has made a way to you  made a way to you  your word lives inside of me  your truth is life to all who hear  life to all who hear  we live for you  live your truth  may your kingdom come  and your will be done  as we serve your heart  serve your heart  let salvation flow  as your people pray  lord, we long for more  long for more, yeah  in you death is overcome  no power can stand against your name  the power of your name  in faith we will rise to be  your hands and feet to all the earth  life to all the earth  we live for you  live your truth  may your kingdom come  and your will be done  as we serve your heart  serve your heart  let salvation flow  as your people pray  lord, we long for more  long for more, yeah  [incomprehensible]  [incomprehensible]  [incomprehensible]  we live for you  live your truth  we long for you  to see you again  may your kingdom come  and your will be done  as we serve your heart  serve your heart  let salvation flow  as your people pray  lord, we long for more  long for more  may your kingdom come  and your will be done  as we serve your heart  serve your heart  let salvation flow  as your people pray  lord, we long for more  long for more  '"
      ]
     },
     "execution_count": 40,
     "metadata": {},
     "output_type": "execute_result"
    }
   ],
   "source": [
    "df['text'][0]"
   ]
  },
  {
   "cell_type": "code",
   "execution_count": 41,
   "id": "ed21a662",
   "metadata": {},
   "outputs": [
    {
     "data": {
      "text/plain": [
       "(5000,)"
      ]
     },
     "execution_count": 41,
     "metadata": {},
     "output_type": "execute_result"
    }
   ],
   "source": [
    "df['text'].shape"
   ]
  },
  {
   "cell_type": "markdown",
   "id": "16a41958",
   "metadata": {},
   "source": [
    "# Tokenization and Stemming"
   ]
  },
  {
   "cell_type": "code",
   "execution_count": 42,
   "id": "101a7f8a",
   "metadata": {},
   "outputs": [
    {
     "name": "stderr",
     "output_type": "stream",
     "text": [
      "[nltk_data] Downloading package punkt to\n",
      "[nltk_data]     C:\\Users\\Santosh\\AppData\\Roaming\\nltk_data...\n",
      "[nltk_data]   Package punkt is already up-to-date!\n"
     ]
    },
    {
     "data": {
      "text/plain": [
       "True"
      ]
     },
     "execution_count": 42,
     "metadata": {},
     "output_type": "execute_result"
    }
   ],
   "source": [
    "# tokenize and stem words in a given text using the Porter Stemmer from NLTK.\n",
    "import nltk\n",
    "from nltk.stem.porter import PorterStemmer\n",
    "nltk.download('punkt')\n"
   ]
  },
  {
   "cell_type": "code",
   "execution_count": 43,
   "id": "40535f16",
   "metadata": {},
   "outputs": [],
   "source": [
    "ps = PorterStemmer()\n",
    "\n",
    "stemming = []\n",
    "def tokenizer(text):\n",
    "    \n",
    "    tokens = nltk.word_tokenize(text)\n",
    "    stemed_word = [ps.stem(word) for word in tokens]\n",
    "        \n",
    "    return ' '.join(stemed_word) "
   ]
  },
  {
   "cell_type": "code",
   "execution_count": 44,
   "id": "c068c9da",
   "metadata": {},
   "outputs": [
    {
     "data": {
      "text/plain": [
       "['i', 'am', 'good', 'boy', '.', 'it', 'is', 'goodlooking', 'painting']"
      ]
     },
     "execution_count": 44,
     "metadata": {},
     "output_type": "execute_result"
    }
   ],
   "source": [
    "tokeniked_word = nltk.word_tokenize('i am good boy. it is goodlooking painting')\n",
    "tokeniked_word"
   ]
  },
  {
   "cell_type": "code",
   "execution_count": 45,
   "id": "39b1942f",
   "metadata": {},
   "outputs": [
    {
     "data": {
      "text/plain": [
       "['i', 'am', 'good', 'boy', '.', 'it', 'is', 'goodlook', 'paint']"
      ]
     },
     "execution_count": 45,
     "metadata": {},
     "output_type": "execute_result"
    }
   ],
   "source": [
    "stemming= []\n",
    "for words in tokeniked_word:\n",
    "    stemed = ps.stem(words)\n",
    "    stemming.append(stemed)\n",
    "    ' '.join(stemming)\n",
    "stemming"
   ]
  },
  {
   "cell_type": "markdown",
   "id": "a7a8bf57",
   "metadata": {},
   "source": [
    "# Potential Error\n",
    "\n",
    "* The error message LookupError: Resource punkt not found. means that the NLTK Punkt tokenizer is not installed. \n",
    "* The Punkt tokenizer is a tool that is used to split text into sentences and tokens."
   ]
  },
  {
   "cell_type": "code",
   "execution_count": 46,
   "id": "97b8f805",
   "metadata": {},
   "outputs": [
    {
     "data": {
      "text/plain": [
       "'helo i am good . thi pot is goodlook . i love book . it is so love'"
      ]
     },
     "execution_count": 46,
     "metadata": {},
     "output_type": "execute_result"
    }
   ],
   "source": [
    "tokenizer(\"helo i am good. this pot is goodlooking. i love book. it is so lovely\")"
   ]
  },
  {
   "cell_type": "markdown",
   "id": "60daff81",
   "metadata": {},
   "source": [
    "# Description of Apply function and Lambda Function\n",
    "\n",
    "* The code df['text'].apply(lambda x: tokenizer(x)) applies the function tokenizer() to each element in the text column of the DataFrame df. The lambda function is a Python function that allows you to create a function on the fly. In this case, the lambda function takes a single argument, x, and returns the result of calling the tokenizer() function on x.\n",
    "\n",
    "\n",
    "* The apply() method applies a function to each element in a DataFrame or Series. In this case, the apply() method is applying the tokenizer() function to each element in the text column of the DataFrame df.\n",
    "\n",
    "\n",
    "* The output of the apply() method is a new DataFrame or Series that contains the results of applying the function to each element in the original DataFrame or Series. In this case, the output of the apply() method is a new DataFrame that contains the results of tokenizing each element in the text column of the DataFrame df.\n",
    "\n",
    "\n",
    "* Here is an example of how to use the apply() method to tokenize the text in a DataFrame:\n",
    "\n",
    "```Python\n",
    "import pandas as pd\n",
    "from nltk.tokenize import word_tokenize\n",
    "\n",
    "# Create a DataFrame\n",
    "df = pd.DataFrame({'text': ['This is a sentence.', 'This is another sentence.']})\n",
    "\n",
    "# Tokenize the text in the DataFrame\n",
    "tokenized_df = df['text'].apply(lambda x: word_tokenize(x))\n",
    "\n",
    "# Print the tokenized DataFrame\n",
    "print(tokenized_df)\n",
    "```\n",
    "\n",
    "* The apply() method is a powerful tool for applying functions to DataFrames and Series. It can be used to perform a variety of tasks, such as cleaning data, transforming data, and creating new features."
   ]
  },
  {
   "cell_type": "code",
   "execution_count": 17,
   "id": "1eb8e27b",
   "metadata": {},
   "outputs": [
    {
     "name": "stderr",
     "output_type": "stream",
     "text": [
      "100%|█████████████████████████████████████████████████████████████████████████████| 5000/5000 [00:14<00:00, 333.94it/s]\n"
     ]
    },
    {
     "data": {
      "text/plain": [
       "0       when white cloud go sailin ' to make my wed go...\n",
       "1       let me introduc myself i 'm a woman that you '...\n",
       "2       lone man upon the shore what on earth are you ...\n",
       "3       i love to worship you , my god i love to worsh...\n",
       "4       turn around you say 'scuse the 'tude but i hav...\n",
       "                              ...                        \n",
       "4995    well , your railroad gate , you know i just ca...\n",
       "4996    everyth around is natur do n't fight it do n't...\n",
       "4997    underneath the sky of red is a storytel sleep ...\n",
       "4998    [ vers 1 ] togeth , togeth , togeth everyon to...\n",
       "4999    just when everi ray of hope wa gone i should h...\n",
       "Name: text, Length: 5000, dtype: object"
      ]
     },
     "execution_count": 17,
     "metadata": {},
     "output_type": "execute_result"
    }
   ],
   "source": [
    "# apply this function to the df['text']\n",
    "\n",
    "from tqdm import tqdm\n",
    "tqdm.pandas()\n",
    "df['text'].progress_apply(tokenizer)"
   ]
  },
  {
   "cell_type": "code",
   "execution_count": 47,
   "id": "768e2bf0",
   "metadata": {},
   "outputs": [
    {
     "data": {
      "text/plain": [
       "pandas.core.frame.DataFrame"
      ]
     },
     "execution_count": 47,
     "metadata": {},
     "output_type": "execute_result"
    }
   ],
   "source": [
    "type(df['text'])\n",
    "type(df)"
   ]
  },
  {
   "cell_type": "markdown",
   "id": "7967e7fd",
   "metadata": {},
   "source": [
    "# Text Vectorization and Cosine Similarity"
   ]
  },
  {
   "cell_type": "code",
   "execution_count": 48,
   "id": "b74088f3",
   "metadata": {},
   "outputs": [
    {
     "data": {
      "text/plain": [
       "(5000, 24882)"
      ]
     },
     "execution_count": 48,
     "metadata": {},
     "output_type": "execute_result"
    }
   ],
   "source": [
    "from sklearn.feature_extraction.text import TfidfVectorizer\n",
    "from sklearn.metrics.pairwise import cosine_similarity\n",
    "\n",
    "tfidf = TfidfVectorizer()\n",
    "matrix = tfidf.fit_transform(df['text'])\n",
    "matrix.shape"
   ]
  },
  {
   "cell_type": "code",
   "execution_count": 50,
   "id": "2602be81",
   "metadata": {},
   "outputs": [
    {
     "data": {
      "text/plain": [
       "array([[1.        , 0.0303888 , 0.02988224, ..., 0.07806906, 0.10787166,\n",
       "        0.08032631],\n",
       "       [0.0303888 , 1.        , 0.03089626, ..., 0.05650621, 0.03916779,\n",
       "        0.04278121],\n",
       "       [0.02988224, 0.03089626, 1.        , ..., 0.06115006, 0.06137702,\n",
       "        0.10741548],\n",
       "       ...,\n",
       "       [0.07806906, 0.05650621, 0.06115006, ..., 1.        , 0.09631003,\n",
       "        0.12654159],\n",
       "       [0.10787166, 0.03916779, 0.06137702, ..., 0.09631003, 1.        ,\n",
       "        0.11912992],\n",
       "       [0.08032631, 0.04278121, 0.10741548, ..., 0.12654159, 0.11912992,\n",
       "        1.        ]])"
      ]
     },
     "execution_count": 50,
     "metadata": {},
     "output_type": "execute_result"
    }
   ],
   "source": [
    "similarity = cosine_similarity(matrix)\n",
    "similarity"
   ]
  },
  {
   "cell_type": "markdown",
   "id": "c676d0ae",
   "metadata": {},
   "source": [
    "# Recommend Songs"
   ]
  },
  {
   "cell_type": "code",
   "execution_count": 51,
   "id": "7b91c7cc",
   "metadata": {},
   "outputs": [
    {
     "data": {
      "text/plain": [
       "0                    Kingdom Come\n",
       "1               Jaden's Interlude\n",
       "2       Me! I Disconnect From You\n",
       "3                  Something Fine\n",
       "4                    Big Boss Man\n",
       "                  ...            \n",
       "4995               Move Right Out\n",
       "4996             Too Long To Love\n",
       "4997                     Patience\n",
       "4998               Love Adjourned\n",
       "4999         The Monster Is Loose\n",
       "Name: song, Length: 5000, dtype: object"
      ]
     },
     "execution_count": 51,
     "metadata": {},
     "output_type": "execute_result"
    }
   ],
   "source": [
    "df['song'].reset_index(drop=True)"
   ]
  },
  {
   "cell_type": "code",
   "execution_count": 52,
   "id": "cc9c0c75",
   "metadata": {},
   "outputs": [
    {
     "data": {
      "text/plain": [
       "['I Live To Know You',\n",
       " 'I Will Run To You',\n",
       " \"I've Come To Serve\",\n",
       " 'One More Broken Heart',\n",
       " 'One More Song For You']"
      ]
     },
     "execution_count": 52,
     "metadata": {},
     "output_type": "execute_result"
    }
   ],
   "source": [
    "# 1. get the most repeated songs\n",
    "df[df['song'] =='The Big Sky']\n",
    "df[df['song'] =='EThe Big Sky']\n",
    "df[df['song'] =='The Big Sky']\n",
    "songs_list = sorted(list(enumerate(similarity[0])), reverse=True, key=lambda x: x[1])[1:6]\n",
    "songs_list\n",
    "\n",
    "songs_index = []\n",
    "def rec():\n",
    "    for i in songs_list:\n",
    "        songs_index.append(df.iloc[i[0]].song)\n",
    "        \n",
    "    return songs_index\n",
    "rec() \n",
    "\n",
    "# df.iloc[0].song"
   ]
  },
  {
   "cell_type": "code",
   "execution_count": 53,
   "id": "24d4a31e",
   "metadata": {},
   "outputs": [],
   "source": [
    "def recommend(song):\n",
    "    idx = df[df['song'] == song]\n",
    "    songs_list = sorted(list(enumerate(similarity[0])), reverse=True, key=lambda x: x[1])[1:6]\n",
    "    songs_name = []\n",
    "    for i in songs_list:\n",
    "        \n",
    "        songs_name.append(df.iloc[i[0]].song)\n",
    "        \n",
    "    return songs_name\n",
    "    "
   ]
  },
  {
   "cell_type": "code",
   "execution_count": 54,
   "id": "697c60ec",
   "metadata": {},
   "outputs": [
    {
     "data": {
      "text/plain": [
       "['I Live To Know You',\n",
       " 'I Will Run To You',\n",
       " \"I've Come To Serve\",\n",
       " 'One More Broken Heart',\n",
       " 'One More Song For You']"
      ]
     },
     "execution_count": 54,
     "metadata": {},
     "output_type": "execute_result"
    }
   ],
   "source": [
    "recommend('I Pulled My Groin')"
   ]
  },
  {
   "cell_type": "code",
   "execution_count": 55,
   "id": "65652259",
   "metadata": {},
   "outputs": [],
   "source": [
    "import pickle "
   ]
  },
  {
   "cell_type": "markdown",
   "id": "0ee93e0b",
   "metadata": {},
   "source": [
    "# Pickle\n",
    "\n",
    "Converting a Python object into a string representation that can be stored or transmitted. Deserialization is the process of converting a serialized string representation back into a Python object.Pickling is a useful way to store Python objects in a database, cache them in memory, or send them over a network. It can also be used to create snapshots of Python objects that can be restored later.\n",
    "\n",
    "To pickle an object, you can use the pickle.dumps() function. The pickle.dumps() function takes a Python object as input and returns a serialized string representation of the object.\n",
    "\n",
    "To deserialize an object, you can use the pickle.loads() function. The pickle.loads() function takes a serialized string representation of an object as input and returns the Python object.\n"
   ]
  },
  {
   "cell_type": "code",
   "execution_count": 57,
   "id": "60bb7887",
   "metadata": {},
   "outputs": [],
   "source": [
    "# Save the dataframe to a pickle file\n",
    "with open('df.pkl', 'wb') as f:\n",
    "    pickle.dump(df, f)"
   ]
  },
  {
   "cell_type": "code",
   "execution_count": 58,
   "id": "617ff03e",
   "metadata": {},
   "outputs": [
    {
     "data": {
      "text/plain": [
       "b'\\x80\\x04\\x95\\x1c\\x00\\x00\\x00\\x00\\x00\\x00\\x00}\\x94(\\x8c\\x04name\\x94\\x8c\\x05Alice\\x94\\x8c\\x03age\\x94K\\x19u.'"
      ]
     },
     "execution_count": 58,
     "metadata": {},
     "output_type": "execute_result"
    }
   ],
   "source": [
    "# Pickle the object\n",
    "my_object = {\"name\": \"Alice\", \"age\": 25}\n",
    "\n",
    "pickled_object = pickle.dumps(my_object)\n",
    "pickled_object"
   ]
  },
  {
   "cell_type": "code",
   "execution_count": 59,
   "id": "d5491a68",
   "metadata": {},
   "outputs": [
    {
     "name": "stdout",
     "output_type": "stream",
     "text": [
      "{'name': 'Alice', 'age': 25}\n"
     ]
    }
   ],
   "source": [
    "# Deserialze the object\n",
    "deserialized_object = pickle.loads(pickled_object)\n",
    "\n",
    "# Print the deserialized object\n",
    "print(deserialized_object)\n"
   ]
  },
  {
   "cell_type": "code",
   "execution_count": 100,
   "id": "591ee2f3",
   "metadata": {},
   "outputs": [],
   "source": [
    "# Serialized Object using dump method\n",
    "with open('rupesh.pkl' ,'wb') as f:\n",
    "    pickle.dump(df,f)"
   ]
  },
  {
   "cell_type": "code",
   "execution_count": 60,
   "id": "adae7a90",
   "metadata": {},
   "outputs": [],
   "source": [
    "# Deserialized Object to read the contents\n",
    "with open('df.pkl', 'rb') as f:\n",
    "    dataFrame = pickle.load(f)"
   ]
  },
  {
   "cell_type": "code",
   "execution_count": 61,
   "id": "257bbdaf",
   "metadata": {},
   "outputs": [
    {
     "data": {
      "text/html": [
       "<div>\n",
       "<style scoped>\n",
       "    .dataframe tbody tr th:only-of-type {\n",
       "        vertical-align: middle;\n",
       "    }\n",
       "\n",
       "    .dataframe tbody tr th {\n",
       "        vertical-align: top;\n",
       "    }\n",
       "\n",
       "    .dataframe thead th {\n",
       "        text-align: right;\n",
       "    }\n",
       "</style>\n",
       "<table border=\"1\" class=\"dataframe\">\n",
       "  <thead>\n",
       "    <tr style=\"text-align: right;\">\n",
       "      <th></th>\n",
       "      <th>artist</th>\n",
       "      <th>song</th>\n",
       "      <th>text</th>\n",
       "    </tr>\n",
       "  </thead>\n",
       "  <tbody>\n",
       "    <tr>\n",
       "      <th>35988</th>\n",
       "      <td>Hillsong United</td>\n",
       "      <td>Kingdom Come</td>\n",
       "      <td>your love reaches out to me  your grace has ma...</td>\n",
       "    </tr>\n",
       "    <tr>\n",
       "      <th>56500</th>\n",
       "      <td>Will Smith</td>\n",
       "      <td>Jaden's Interlude</td>\n",
       "      <td>jada: what are you doing?  jaden: i'm just loo...</td>\n",
       "    </tr>\n",
       "    <tr>\n",
       "      <th>6533</th>\n",
       "      <td>Gary Numan</td>\n",
       "      <td>Me! I Disconnect From You</td>\n",
       "      <td>the alarm rang for days  you could tell from c...</td>\n",
       "    </tr>\n",
       "    <tr>\n",
       "      <th>41501</th>\n",
       "      <td>Leo Sayer</td>\n",
       "      <td>Something Fine</td>\n",
       "      <td>papers lie there helplessly  in a pile outside...</td>\n",
       "    </tr>\n",
       "    <tr>\n",
       "      <th>34441</th>\n",
       "      <td>Grateful Dead</td>\n",
       "      <td>Big Boss Man</td>\n",
       "      <td>big boss man, can't you hear me when i call?  ...</td>\n",
       "    </tr>\n",
       "    <tr>\n",
       "      <th>...</th>\n",
       "      <td>...</td>\n",
       "      <td>...</td>\n",
       "      <td>...</td>\n",
       "    </tr>\n",
       "    <tr>\n",
       "      <th>17610</th>\n",
       "      <td>Rick Astley</td>\n",
       "      <td>Move Right Out</td>\n",
       "      <td>she comes home in the morning light  tries to ...</td>\n",
       "    </tr>\n",
       "    <tr>\n",
       "      <th>7909</th>\n",
       "      <td>HIM</td>\n",
       "      <td>Too Long To Love</td>\n",
       "      <td>in fear of somthing so unheard of  she tries t...</td>\n",
       "    </tr>\n",
       "    <tr>\n",
       "      <th>49349</th>\n",
       "      <td>Queen</td>\n",
       "      <td>Patience</td>\n",
       "      <td>shed a tear 'cause i'm missing you  i'm still ...</td>\n",
       "    </tr>\n",
       "    <tr>\n",
       "      <th>24887</th>\n",
       "      <td>Beautiful South</td>\n",
       "      <td>Love Adjourned</td>\n",
       "      <td>your wife's got beautiful skin  shame it's not...</td>\n",
       "    </tr>\n",
       "    <tr>\n",
       "      <th>43419</th>\n",
       "      <td>Meat Loaf</td>\n",
       "      <td>The Monster Is Loose</td>\n",
       "      <td>i've been living my life in a cage  freedom sp...</td>\n",
       "    </tr>\n",
       "  </tbody>\n",
       "</table>\n",
       "<p>5000 rows × 3 columns</p>\n",
       "</div>"
      ],
      "text/plain": [
       "                artist                       song  \\\n",
       "35988  Hillsong United               Kingdom Come   \n",
       "56500       Will Smith          Jaden's Interlude   \n",
       "6533        Gary Numan  Me! I Disconnect From You   \n",
       "41501        Leo Sayer             Something Fine   \n",
       "34441    Grateful Dead               Big Boss Man   \n",
       "...                ...                        ...   \n",
       "17610      Rick Astley             Move Right Out   \n",
       "7909               HIM           Too Long To Love   \n",
       "49349            Queen                   Patience   \n",
       "24887  Beautiful South             Love Adjourned   \n",
       "43419        Meat Loaf       The Monster Is Loose   \n",
       "\n",
       "                                                    text  \n",
       "35988  your love reaches out to me  your grace has ma...  \n",
       "56500  jada: what are you doing?  jaden: i'm just loo...  \n",
       "6533   the alarm rang for days  you could tell from c...  \n",
       "41501  papers lie there helplessly  in a pile outside...  \n",
       "34441  big boss man, can't you hear me when i call?  ...  \n",
       "...                                                  ...  \n",
       "17610  she comes home in the morning light  tries to ...  \n",
       "7909   in fear of somthing so unheard of  she tries t...  \n",
       "49349  shed a tear 'cause i'm missing you  i'm still ...  \n",
       "24887  your wife's got beautiful skin  shame it's not...  \n",
       "43419  i've been living my life in a cage  freedom sp...  \n",
       "\n",
       "[5000 rows x 3 columns]"
      ]
     },
     "execution_count": 61,
     "metadata": {},
     "output_type": "execute_result"
    }
   ],
   "source": [
    "dataFrame"
   ]
  },
  {
   "cell_type": "code",
   "execution_count": 65,
   "id": "6ab22916",
   "metadata": {},
   "outputs": [],
   "source": [
    "# dump the similarity matrix \n",
    "pickle.dump(df, open('df.pkl', 'wb'))\n",
    "# Similarily dump the similarity matrix \n",
    "pickle.dump(similarity, open('song_similarity_matrix.pkl', 'wb'))"
   ]
  },
  {
   "cell_type": "code",
   "execution_count": 66,
   "id": "6fb403bb",
   "metadata": {},
   "outputs": [
    {
     "data": {
      "text/plain": [
       "array(['Kingdom Come', \"Jaden's Interlude\", 'Me! I Disconnect From You',\n",
       "       ..., 'Patience', 'Love Adjourned', 'The Monster Is Loose'],\n",
       "      dtype=object)"
      ]
     },
     "execution_count": 66,
     "metadata": {},
     "output_type": "execute_result"
    }
   ],
   "source": [
    "df = pickle.load(open('df.pkl','rb'))\n",
    "df['song'].values"
   ]
  },
  {
   "cell_type": "code",
   "execution_count": 67,
   "id": "673627bf",
   "metadata": {},
   "outputs": [
    {
     "name": "stdout",
     "output_type": "stream",
     "text": [
      "1.4.2\n"
     ]
    }
   ],
   "source": [
    "import pandas as pd\n",
    "print(pd.__version__)"
   ]
  },
  {
   "cell_type": "code",
   "execution_count": 68,
   "id": "f709b7d7",
   "metadata": {},
   "outputs": [
    {
     "data": {
      "text/plain": [
       "190.7349853515625"
      ]
     },
     "execution_count": 68,
     "metadata": {},
     "output_type": "execute_result"
    }
   ],
   "source": [
    "import sys\n",
    "memory_uses = sys.getsizeof(similarity)\n",
    "memory_use = memory_uses/1024/1024\n",
    "memory_use"
   ]
  },
  {
   "cell_type": "code",
   "execution_count": 69,
   "id": "032ad7c1",
   "metadata": {},
   "outputs": [],
   "source": [
    "import zlib"
   ]
  },
  {
   "cell_type": "code",
   "execution_count": 70,
   "id": "f1582f1d",
   "metadata": {},
   "outputs": [],
   "source": [
    "compressed_array = zlib.compress(similarity)\n",
    "compressed_array"
   ]
  },
  {
   "cell_type": "code",
   "execution_count": 71,
   "id": "f034e82c",
   "metadata": {},
   "outputs": [
    {
     "data": {
      "text/plain": [
       "179.37175941467285"
      ]
     },
     "execution_count": 71,
     "metadata": {},
     "output_type": "execute_result"
    }
   ],
   "source": [
    "compressed_size = sys.getsizeof(compressed_array)\n",
    "compressed_size/1024/1024"
   ]
  }
 ],
 "metadata": {
  "kernelspec": {
   "display_name": "Python 3 (ipykernel)",
   "language": "python",
   "name": "python3"
  },
  "language_info": {
   "codemirror_mode": {
    "name": "ipython",
    "version": 3
   },
   "file_extension": ".py",
   "mimetype": "text/x-python",
   "name": "python",
   "nbconvert_exporter": "python",
   "pygments_lexer": "ipython3",
   "version": "3.9.12"
  }
 },
 "nbformat": 4,
 "nbformat_minor": 5
}
